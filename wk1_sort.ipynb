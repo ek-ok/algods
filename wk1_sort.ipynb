{
 "cells": [
  {
   "cell_type": "markdown",
   "metadata": {},
   "source": [
    "# Timer"
   ]
  },
  {
   "cell_type": "code",
   "execution_count": 1,
   "metadata": {
    "collapsed": false
   },
   "outputs": [],
   "source": [
    "import matplotlib.pyplot as plt\n",
    "import timeit\n",
    "from functools import partial\n",
    "import random\n",
    "import time\n",
    "\n",
    "%matplotlib inline"
   ]
  },
  {
   "cell_type": "code",
   "execution_count": 2,
   "metadata": {
    "collapsed": false
   },
   "outputs": [],
   "source": [
    "def plot_runtime(fn):\n",
    "    x = []\n",
    "    y = []\n",
    "    \n",
    "    for n in range(1, 1000, 10):\n",
    "        l = [random.randint(1, n) for _ in range(0, n)]\n",
    "        t = timeit.Timer(partial(fn, l)).timeit(1)\n",
    "        \n",
    "        x.append(n)\n",
    "        y.append(t)\n",
    "        \n",
    "    plt.plot(x, y, 'o')"
   ]
  },
  {
   "cell_type": "code",
   "execution_count": 3,
   "metadata": {
    "collapsed": true
   },
   "outputs": [],
   "source": [
    "def timefn(fn):\n",
    "\n",
    "    def timed(*args, **kw):\n",
    "        ts = time.time()\n",
    "        result = fn(*args, **kw)\n",
    "        te = time.time()\n",
    "        runtime = te - ts\n",
    "        return result, runtime\n",
    "\n",
    "    return timed"
   ]
  },
  {
   "cell_type": "markdown",
   "metadata": {},
   "source": [
    "# Insertion Sort"
   ]
  },
  {
   "cell_type": "code",
   "execution_count": 4,
   "metadata": {
    "collapsed": true
   },
   "outputs": [],
   "source": [
    "# @timefn\n",
    "def insertion_sort(lst):\n",
    "    for idx in range(1, len(lst)):\n",
    "        key = lst[idx]\n",
    "        pos = idx\n",
    "        \n",
    "        while pos > 0 and lst[pos - 1] > key:\n",
    "            lst[pos] = lst[pos - 1]\n",
    "            pos -= 1\n",
    "        \n",
    "        lst[pos] = key\n",
    "        \n",
    "    return lst"
   ]
  },
  {
   "cell_type": "code",
   "execution_count": 5,
   "metadata": {
    "collapsed": false
   },
   "outputs": [
    {
     "data": {
      "image/png": "[encoded data removed]",
      "text/plain": [
       "<matplotlib.figure.Figure at 0x10b020e50>"
      ]
     },
     "metadata": {},
     "output_type": "display_data"
    }
   ],
   "source": [
    "plot_runtime(insertion_sort)"
   ]
  },
  {
   "cell_type": "markdown",
   "metadata": {},
   "source": [
    "# Mergesort"
   ]
  },
  {
   "cell_type": "code",
   "execution_count": 6,
   "metadata": {
    "collapsed": false
   },
   "outputs": [],
   "source": [
    "def merge_sort(lst):\n",
    "    if len(lst)==1:\n",
    "        return lst\n",
    "    \n",
    "    mid = len(lst) / 2\n",
    "    left = lst[:mid]\n",
    "    right = lst[mid:]\n",
    "    \n",
    "#     print left, right\n",
    "    \n",
    "    left = merge_sort(left)\n",
    "    right = merge_sort(right)\n",
    "    \n",
    "    return merge_two(left, right)\n",
    "\n",
    "def merge_two(left, right):\n",
    "    tmp = []\n",
    "    t_idx = 0\n",
    "\n",
    "    l_idx = 0\n",
    "    r_idx = 0\n",
    "            \n",
    "    while l_idx < len(left) and r_idx < len(right):\n",
    "        if left[l_idx] < right[r_idx]:\n",
    "            tmp.append(left[l_idx])\n",
    "            l_idx +=1\n",
    "        else:\n",
    "            tmp.append(right[r_idx])\n",
    "            r_idx +=1\n",
    "        t_idx +=1\n",
    "        \n",
    "    if l_idx==len(left):\n",
    "        tmp += right[r_idx:]\n",
    "    else:\n",
    "        tmp += left[l_idx:]\n",
    "    \n",
    "#     print 'aft merge', tmp\n",
    "#     print\n",
    "    \n",
    "    return tmp"
   ]
  },
  {
   "cell_type": "code",
   "execution_count": 7,
   "metadata": {
    "collapsed": false
   },
   "outputs": [
    {
     "data": {
      "text/plain": [
       "[1, 3, 4, 5, 6, 7, 8, 9]"
      ]
     },
     "execution_count": 7,
     "metadata": {},
     "output_type": "execute_result"
    }
   ],
   "source": [
    "merge_sort([6,5,3,1,8,7,4,9])"
   ]
  },
  {
   "cell_type": "code",
   "execution_count": 8,
   "metadata": {
    "collapsed": false
   },
   "outputs": [
    {
     "data": {
      "image/png": "[encoded data removed]",
      "text/plain": [
       "<matplotlib.figure.Figure at 0x10d0ee350>"
      ]
     },
     "metadata": {},
     "output_type": "display_data"
    }
   ],
   "source": [
    "# import sys\n",
    "# sys.setrecursionlimit(10000)\n",
    "\n",
    "plot_runtime(merge_sort)"
   ]
  },
  {
   "cell_type": "code",
   "execution_count": null,
   "metadata": {
    "collapsed": true
   },
   "outputs": [],
   "source": []
  }
 ],
 "metadata": {
  "anaconda-cloud": {},
  "kernelspec": {
   "display_name": "Python [default]",
   "language": "python",
   "name": "python2"
  },
  "language_info": {
   "codemirror_mode": {
    "name": "ipython",
    "version": 2
   },
   "file_extension": ".py",
   "mimetype": "text/x-python",
   "name": "python",
   "nbconvert_exporter": "python",
   "pygments_lexer": "ipython2",
   "version": "2.7.12"
  }
 },
 "nbformat": 4,
 "nbformat_minor": 1
}
